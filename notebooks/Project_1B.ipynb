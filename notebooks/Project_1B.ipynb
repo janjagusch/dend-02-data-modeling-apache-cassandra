{
 "cells": [
  {
   "cell_type": "markdown",
   "metadata": {},
   "source": [
    "# Udacity Data Engineering Nanodegree - Project 2: Data Modelling in Apache Cassandra"
   ]
  },
  {
   "cell_type": "markdown",
   "metadata": {},
   "source": [
    "This is my solution for the second proect of the [Udacity Data Engineering Nanodegree](https://eu.udacity.com/course/data-engineer-nanodegree--nd027). It differs slightly from the suggested notebook structure, still I believe all relevant specifications are met."
   ]
  },
  {
   "cell_type": "markdown",
   "metadata": {},
   "source": [
    "## Setup"
   ]
  },
  {
   "cell_type": "markdown",
   "metadata": {},
   "source": [
    "First, we set the working directory and load all necessary modules."
   ]
  },
  {
   "cell_type": "code",
   "execution_count": 1,
   "metadata": {},
   "outputs": [],
   "source": [
    "import sys\n",
    "sys.path.append(\"../data_modeling/\")"
   ]
  },
  {
   "cell_type": "code",
   "execution_count": 2,
   "metadata": {},
   "outputs": [],
   "source": [
    "import answer\n",
    "import create_event_data_new\n",
    "import create_tables\n",
    "import cql_queries\n",
    "import etl"
   ]
  },
  {
   "cell_type": "markdown",
   "metadata": {},
   "source": [
    "## Part 1: ETL Pipeline for Preprocessing the Files"
   ]
  },
  {
   "cell_type": "markdown",
   "metadata": {},
   "source": [
    "In part 1, we merge all provided files in `data/event_data` to one file `event_data_new.csv`."
   ]
  },
  {
   "cell_type": "code",
   "execution_count": 3,
   "metadata": {},
   "outputs": [
    {
     "name": "stdout",
     "output_type": "stream",
     "text": [
      "Reading event_data files...\n",
      "Writing event_data_new file...\n",
      "Done.\n"
     ]
    }
   ],
   "source": [
    "create_event_data_new.main()"
   ]
  },
  {
   "cell_type": "markdown",
   "metadata": {},
   "source": [
    "## Part 2: Apache Cassandra"
   ]
  },
  {
   "cell_type": "markdown",
   "metadata": {},
   "source": [
    "In part 2, we create the database and tables, run the ETL to populate the tables and query the tables to answer our business questions. The questions we are trying to answer are:"
   ]
  },
  {
   "cell_type": "markdown",
   "metadata": {},
   "source": [
    "1. Give me the artist, song title and song's length in the music app history that was heard during sessionId = 338, and itemInSession = 4\n",
    "2. Give me only the following: name of artist, song (sorted by itemInSession) and user (first and last name) for userid = 10, sessionid = 182\n",
    "3. Give me every user name (first and last) in my music app history who listened to the song 'All Hands Against His Own'"
   ]
  },
  {
   "cell_type": "markdown",
   "metadata": {},
   "source": [
    "### Creating Database and Tables"
   ]
  },
  {
   "cell_type": "markdown",
   "metadata": {},
   "source": [
    "The code to create database and tables lies in `data_modelling/create_tables.py`. In order to answer the three questions above, the module creates three tables for us: `song_in_session`, `song_in_user` and `user_in_song`."
   ]
  },
  {
   "cell_type": "code",
   "execution_count": 17,
   "metadata": {},
   "outputs": [
    {
     "name": "stdout",
     "output_type": "stream",
     "text": [
      "\n",
      "CREATE TABLE IF NOT EXISTS song_in_session (\n",
      "                                    session_id INT,\n",
      "                                    item_in_session INT,\n",
      "                                    artist_name VARCHAR,\n",
      "                                    song_title VARCHAR,\n",
      "                                    song_duration DECIMAL,\n",
      "                                    PRIMARY KEY(session_id,\n",
      "                                                item_in_session)\n",
      "                                    );\n",
      "\n",
      "\n",
      "CREATE TABLE IF NOT EXISTS song_in_user (\n",
      "                                    user_id INT,\n",
      "                                    session_id INT,\n",
      "                                    item_in_session INT,\n",
      "                                    artist_name VARCHAR,\n",
      "                                    song_title VARCHAR,\n",
      "                                    user_first_name VARCHAR,\n",
      "                                    user_last_name VARCHAR,\n",
      "                                    PRIMARY KEY(user_id,\n",
      "                                                session_id,\n",
      "                                                item_in_session)\n",
      "                                    );\n",
      "\n",
      "\n",
      "CREATE TABLE IF NOT EXISTS user_in_song (\n",
      "                                    song_title VARCHAR,\n",
      "                                    user_id INT,\n",
      "                                    user_first_name VARCHAR,\n",
      "                                    user_last_name VARCHAR,\n",
      "                                    PRIMARY KEY(song_title,\n",
      "                                                user_id)\n",
      "                                    );\n",
      "\n"
     ]
    }
   ],
   "source": [
    "for query in cql_queries.CREATE_TABLE_QUERIES:\n",
    "    print(query)"
   ]
  },
  {
   "cell_type": "code",
   "execution_count": 5,
   "metadata": {},
   "outputs": [
    {
     "name": "stdout",
     "output_type": "stream",
     "text": [
      "Creating connection...\n",
      "Dropping old tables...\n",
      "Creating new tables...\n",
      "Closing connection...\n",
      "Done.\n"
     ]
    }
   ],
   "source": [
    "create_tables.main()"
   ]
  },
  {
   "cell_type": "markdown",
   "metadata": {},
   "source": [
    "### Inserting the Data into Cassandra"
   ]
  },
  {
   "cell_type": "markdown",
   "metadata": {},
   "source": [
    "The code to run the ETL and insert data into our tables lies in `data_modelling/etl.py`. For every table, raw data is preprocessed as described in `data_modelling/etl_steps/prepare.py`. Afterwards, the script inserts the data as follows:"
   ]
  },
  {
   "cell_type": "code",
   "execution_count": 6,
   "metadata": {},
   "outputs": [
    {
     "name": "stdout",
     "output_type": "stream",
     "text": [
      "\n",
      "INSERT INTO song_in_session (\n",
      "                     session_id,\n",
      "                     item_in_session,\n",
      "                     artist_name,\n",
      "                     song_title,\n",
      "                     song_duration)\n",
      "VALUES (\n",
      "        %(session_id)s,\n",
      "        %(item_in_session)s,\n",
      "        %(artist_name)s,\n",
      "        %(song_title)s,\n",
      "        %(song_duration)s\n",
      "        );\n",
      "\n",
      "\n",
      "INSERT INTO song_in_user (\n",
      "                     user_id,\n",
      "                     session_id,\n",
      "                     item_in_session,\n",
      "                     artist_name,\n",
      "                     song_title,\n",
      "                     user_first_name,\n",
      "                     user_last_name)\n",
      "VALUES (\n",
      "        %(user_id)s,\n",
      "        %(session_id)s,\n",
      "        %(item_in_session)s,\n",
      "        %(artist_name)s,\n",
      "        %(song_title)s,\n",
      "        %(user_first_name)s,\n",
      "        %(user_last_name)s\n",
      "        );\n",
      "\n",
      "\n",
      "INSERT INTO user_in_song (\n",
      "                     song_title,\n",
      "                     user_id,\n",
      "                     user_first_name,\n",
      "                     user_last_name)\n",
      "VALUES (\n",
      "        %(song_title)s,\n",
      "        %(user_id)s,\n",
      "        %(user_first_name)s,\n",
      "        %(user_last_name)s\n",
      "        );\n",
      "\n"
     ]
    }
   ],
   "source": [
    "for query in cql_queries.INSERT_TABLE_QUERIES:\n",
    "    print(query)"
   ]
  },
  {
   "cell_type": "code",
   "execution_count": 7,
   "metadata": {},
   "outputs": [
    {
     "name": "stdout",
     "output_type": "stream",
     "text": [
      "Creating connection...\n",
      "Inserting data...\n",
      "Closing connection...\n",
      "Done.\n"
     ]
    }
   ],
   "source": [
    "etl.main()"
   ]
  },
  {
   "cell_type": "markdown",
   "metadata": {},
   "source": [
    "### Answering the Business Questions"
   ]
  },
  {
   "cell_type": "markdown",
   "metadata": {},
   "source": [
    "Finally we can answer our business questions! In order to do so, we execute the following queries and store the results in `answers/` in markdown format."
   ]
  },
  {
   "cell_type": "code",
   "execution_count": 8,
   "metadata": {},
   "outputs": [
    {
     "name": "stdout",
     "output_type": "stream",
     "text": [
      "\n",
      "SELECT artist_name,\n",
      "       song_title,\n",
      "       song_duration\n",
      "  FROM song_in_session\n",
      " WHERE session_id=338\n",
      "   AND item_in_session=4;\n",
      "\n",
      "\n",
      "SELECT artist_name,\n",
      "       song_title,\n",
      "       user_first_name,\n",
      "       user_last_name\n",
      "  FROM song_in_user\n",
      " WHERE user_id=10\n",
      "   AND session_id=182;\n",
      "\n",
      "\n",
      "SELECT user_first_name,\n",
      "       user_last_name\n",
      "  FROM user_in_song\n",
      " WHERE song_title = 'All Hands Against His Own';\n",
      "\n"
     ]
    }
   ],
   "source": [
    "for query in cql_queries.SELECT_TABLE_QUERIES:\n",
    "    print(query)"
   ]
  },
  {
   "cell_type": "code",
   "execution_count": 9,
   "metadata": {},
   "outputs": [
    {
     "name": "stdout",
     "output_type": "stream",
     "text": [
      "Creating connection...\n",
      "Executing queries...\n",
      "Closing connection...\n",
      "Done.\n"
     ]
    }
   ],
   "source": [
    "answers = answer.main()"
   ]
  },
  {
   "cell_type": "markdown",
   "metadata": {},
   "source": [
    "## Final Answers"
   ]
  },
  {
   "cell_type": "markdown",
   "metadata": {},
   "source": [
    "Give me the artist, song title and song's length in the music app history that was heard during sessionId = 338, and itemInSession = 4"
   ]
  },
  {
   "cell_type": "code",
   "execution_count": 12,
   "metadata": {},
   "outputs": [
    {
     "data": {
      "text/html": [
       "<div>\n",
       "<style scoped>\n",
       "    .dataframe tbody tr th:only-of-type {\n",
       "        vertical-align: middle;\n",
       "    }\n",
       "\n",
       "    .dataframe tbody tr th {\n",
       "        vertical-align: top;\n",
       "    }\n",
       "\n",
       "    .dataframe thead th {\n",
       "        text-align: right;\n",
       "    }\n",
       "</style>\n",
       "<table border=\"1\" class=\"dataframe\">\n",
       "  <thead>\n",
       "    <tr style=\"text-align: right;\">\n",
       "      <th></th>\n",
       "      <th>artist_name</th>\n",
       "      <th>song_title</th>\n",
       "      <th>song_duration</th>\n",
       "    </tr>\n",
       "  </thead>\n",
       "  <tbody>\n",
       "    <tr>\n",
       "      <th>0</th>\n",
       "      <td>Faithless</td>\n",
       "      <td>Music Matters (Mark Knight Dub)</td>\n",
       "      <td>495.3073</td>\n",
       "    </tr>\n",
       "  </tbody>\n",
       "</table>\n",
       "</div>"
      ],
      "text/plain": [
       "  artist_name                       song_title song_duration\n",
       "0   Faithless  Music Matters (Mark Knight Dub)      495.3073"
      ]
     },
     "execution_count": 12,
     "metadata": {},
     "output_type": "execute_result"
    }
   ],
   "source": [
    "answers[0]"
   ]
  },
  {
   "cell_type": "markdown",
   "metadata": {},
   "source": [
    "Give me only the following: name of artist, song (sorted by itemInSession) and user (first and last name) for userid = 10, sessionid = 182"
   ]
  },
  {
   "cell_type": "code",
   "execution_count": 14,
   "metadata": {},
   "outputs": [
    {
     "data": {
      "text/html": [
       "<div>\n",
       "<style scoped>\n",
       "    .dataframe tbody tr th:only-of-type {\n",
       "        vertical-align: middle;\n",
       "    }\n",
       "\n",
       "    .dataframe tbody tr th {\n",
       "        vertical-align: top;\n",
       "    }\n",
       "\n",
       "    .dataframe thead th {\n",
       "        text-align: right;\n",
       "    }\n",
       "</style>\n",
       "<table border=\"1\" class=\"dataframe\">\n",
       "  <thead>\n",
       "    <tr style=\"text-align: right;\">\n",
       "      <th></th>\n",
       "      <th>artist_name</th>\n",
       "      <th>song_title</th>\n",
       "      <th>user_first_name</th>\n",
       "      <th>user_last_name</th>\n",
       "    </tr>\n",
       "  </thead>\n",
       "  <tbody>\n",
       "    <tr>\n",
       "      <th>0</th>\n",
       "      <td>Down To The Bone</td>\n",
       "      <td>Keep On Keepin' On</td>\n",
       "      <td>Sylvie</td>\n",
       "      <td>Cruz</td>\n",
       "    </tr>\n",
       "    <tr>\n",
       "      <th>1</th>\n",
       "      <td>Three Drives</td>\n",
       "      <td>Greece 2000</td>\n",
       "      <td>Sylvie</td>\n",
       "      <td>Cruz</td>\n",
       "    </tr>\n",
       "    <tr>\n",
       "      <th>2</th>\n",
       "      <td>Sebastien Tellier</td>\n",
       "      <td>Kilometer</td>\n",
       "      <td>Sylvie</td>\n",
       "      <td>Cruz</td>\n",
       "    </tr>\n",
       "    <tr>\n",
       "      <th>3</th>\n",
       "      <td>Lonnie Gordon</td>\n",
       "      <td>Catch You Baby (Steve Pitron &amp; Max Sanna Radio...</td>\n",
       "      <td>Sylvie</td>\n",
       "      <td>Cruz</td>\n",
       "    </tr>\n",
       "  </tbody>\n",
       "</table>\n",
       "</div>"
      ],
      "text/plain": [
       "         artist_name                                         song_title  \\\n",
       "0   Down To The Bone                                 Keep On Keepin' On   \n",
       "1       Three Drives                                        Greece 2000   \n",
       "2  Sebastien Tellier                                          Kilometer   \n",
       "3      Lonnie Gordon  Catch You Baby (Steve Pitron & Max Sanna Radio...   \n",
       "\n",
       "  user_first_name user_last_name  \n",
       "0          Sylvie           Cruz  \n",
       "1          Sylvie           Cruz  \n",
       "2          Sylvie           Cruz  \n",
       "3          Sylvie           Cruz  "
      ]
     },
     "execution_count": 14,
     "metadata": {},
     "output_type": "execute_result"
    }
   ],
   "source": [
    "answers[1]"
   ]
  },
  {
   "cell_type": "markdown",
   "metadata": {},
   "source": [
    "Give me every user name (first and last) in my music app history who listened to the song 'All Hands Against His Own'"
   ]
  },
  {
   "cell_type": "code",
   "execution_count": 16,
   "metadata": {},
   "outputs": [
    {
     "data": {
      "text/html": [
       "<div>\n",
       "<style scoped>\n",
       "    .dataframe tbody tr th:only-of-type {\n",
       "        vertical-align: middle;\n",
       "    }\n",
       "\n",
       "    .dataframe tbody tr th {\n",
       "        vertical-align: top;\n",
       "    }\n",
       "\n",
       "    .dataframe thead th {\n",
       "        text-align: right;\n",
       "    }\n",
       "</style>\n",
       "<table border=\"1\" class=\"dataframe\">\n",
       "  <thead>\n",
       "    <tr style=\"text-align: right;\">\n",
       "      <th></th>\n",
       "      <th>user_first_name</th>\n",
       "      <th>user_last_name</th>\n",
       "    </tr>\n",
       "  </thead>\n",
       "  <tbody>\n",
       "    <tr>\n",
       "      <th>0</th>\n",
       "      <td>Jacqueline</td>\n",
       "      <td>Lynch</td>\n",
       "    </tr>\n",
       "    <tr>\n",
       "      <th>1</th>\n",
       "      <td>Tegan</td>\n",
       "      <td>Levine</td>\n",
       "    </tr>\n",
       "    <tr>\n",
       "      <th>2</th>\n",
       "      <td>Sara</td>\n",
       "      <td>Johnson</td>\n",
       "    </tr>\n",
       "  </tbody>\n",
       "</table>\n",
       "</div>"
      ],
      "text/plain": [
       "  user_first_name user_last_name\n",
       "0      Jacqueline          Lynch\n",
       "1           Tegan         Levine\n",
       "2            Sara        Johnson"
      ]
     },
     "execution_count": 16,
     "metadata": {},
     "output_type": "execute_result"
    }
   ],
   "source": [
    "answers[2]"
   ]
  }
 ],
 "metadata": {
  "kernelspec": {
   "display_name": "Python 3",
   "language": "python",
   "name": "python3"
  },
  "language_info": {
   "codemirror_mode": {
    "name": "ipython",
    "version": 3
   },
   "file_extension": ".py",
   "mimetype": "text/x-python",
   "name": "python",
   "nbconvert_exporter": "python",
   "pygments_lexer": "ipython3",
   "version": "3.6.7"
  }
 },
 "nbformat": 4,
 "nbformat_minor": 2
}
